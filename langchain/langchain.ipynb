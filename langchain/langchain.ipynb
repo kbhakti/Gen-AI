{
 "cells": [
  {
   "cell_type": "code",
   "execution_count": 1,
   "id": "e8aa7e1f",
   "metadata": {},
   "outputs": [],
   "source": [
    "# from secret_key import openapi_key\n",
    "# import os\n",
    "# os.environ['OPENAI_API_KEY'] = openapi_key\n",
    "\n",
    "import os\n",
    "os.environ['OPENAI_API_KEY'] = \"add your serpapi key here\""
   ]
  },
  {
   "cell_type": "code",
   "execution_count": 3,
   "id": "701a499b",
   "metadata": {},
   "outputs": [],
   "source": [
    "import warnings\n",
    "warnings.filterwarnings('ignore')"
   ]
  },
  {
   "cell_type": "markdown",
   "id": "236cacad",
   "metadata": {},
   "source": [
    "### LLM"
   ]
  },
  {
   "cell_type": "code",
   "execution_count": 4,
   "id": "066e9e3c",
   "metadata": {},
   "outputs": [
    {
     "name": "stdout",
     "output_type": "stream",
     "text": [
      "\n",
      "\"Maharaja's Palace: Fine Indian Cuisine\" \n"
     ]
    }
   ],
   "source": [
    "from langchain.llms import OpenAI\n",
    "\n",
    "llm = OpenAI(temperature=0.9)\n",
    "name = llm.predict(\"I want to open a restaurant for Indian food. Suggest a fency name for this.\")\n",
    "print(name)"
   ]
  },
  {
   "cell_type": "code",
   "execution_count": 5,
   "id": "6dae982b",
   "metadata": {},
   "outputs": [
    {
     "data": {
      "text/plain": [
       "'\\n\\n\"Saffron Palace\"'"
      ]
     },
     "execution_count": 5,
     "metadata": {},
     "output_type": "execute_result"
    }
   ],
   "source": [
    "llm(\"I want to open a restaurant for Indian food. Suggest a fency name for this.\")"
   ]
  },
  {
   "cell_type": "markdown",
   "id": "c5444056",
   "metadata": {},
   "source": [
    "### Prompt Templates "
   ]
  },
  {
   "cell_type": "code",
   "execution_count": 7,
   "id": "7f0c6f59",
   "metadata": {},
   "outputs": [
    {
     "name": "stdout",
     "output_type": "stream",
     "text": [
      "I want to open a restaurant for Italian food. Suggest a fency name for this.\n",
      "\n",
      "\n",
      "\"La Bella Cucina\" (The Beautiful Kitchen)\n"
     ]
    }
   ],
   "source": [
    "from langchain.prompts import PromptTemplate\n",
    "\n",
    "prompt_template_name = PromptTemplate(\n",
    "    input_variables =['cuisine'],\n",
    "    template = \"I want to open a restaurant for {cuisine} food. Suggest a fency name for this.\"\n",
    ")\n",
    "p = prompt_template_name.format(cuisine=\"Italian\")\n",
    "print(p)\n",
    "\n",
    "print(llm.predict(p))"
   ]
  },
  {
   "cell_type": "markdown",
   "id": "f98317ea",
   "metadata": {},
   "source": [
    "### Chains "
   ]
  },
  {
   "cell_type": "code",
   "execution_count": 8,
   "id": "f4b006c6",
   "metadata": {},
   "outputs": [
    {
     "data": {
      "text/plain": [
       "'\\n\\n1. \"El Mirador\" (The Overlook)\\n2. \"La Cantina de Oro\" (The Golden Cantina)\\n3. \"El Sabor Mexicano\" (The Mexican Flavor)\\n4. \"Casa Azul\" (Blue House)\\n5. \"Rancho del Sol\" (Ranch of the Sun)\\n6. \"Hacienda del Mar\" (Estate of the Sea)\\n7. \"La Frontera\" (The Border)\\n8. \"El Dorado Cocina\" (The Golden Kitchen)\\n9. \"Mi Tierra\" (My Land)\\n10. \"La Fiesta Mexicana\" (The Mexican Party)'"
      ]
     },
     "execution_count": 8,
     "metadata": {},
     "output_type": "execute_result"
    }
   ],
   "source": [
    "from langchain.chains import LLMChain\n",
    "\n",
    "chain = LLMChain(llm=llm, prompt=prompt_template_name)\n",
    "chain.run(\"Mexican\")"
   ]
  },
  {
   "cell_type": "code",
   "execution_count": 11,
   "id": "705d4e24",
   "metadata": {},
   "outputs": [
    {
     "name": "stdout",
     "output_type": "stream",
     "text": [
      "\n",
      "\n",
      "\u001b[1m> Entering new LLMChain chain...\u001b[0m\n",
      "Prompt after formatting:\n",
      "\u001b[32;1m\u001b[1;3mI want to open a restaurant for Mexican food. Suggest a fency name for this.\u001b[0m\n",
      "\n",
      "\u001b[1m> Finished chain.\u001b[0m\n"
     ]
    },
    {
     "data": {
      "text/plain": [
       "'\\n\\n\"El Jardín de Sabores\" (The Garden of Flavors)'"
      ]
     },
     "execution_count": 11,
     "metadata": {},
     "output_type": "execute_result"
    }
   ],
   "source": [
    "chain = LLMChain(llm=llm, prompt=prompt_template_name, verbose=True)\n",
    "chain.run(\"Mexican\")"
   ]
  },
  {
   "cell_type": "code",
   "execution_count": 12,
   "id": "699478ca",
   "metadata": {},
   "outputs": [],
   "source": [
    "llm = OpenAI(temperature=0.6)\n",
    "\n",
    "prompt_template_name = PromptTemplate(\n",
    "    input_variables =['cuisine'],\n",
    "    template = \"I want to open a restaurant for {cuisine} food. Suggest a fency name for this.\"\n",
    ")\n",
    "\n",
    "name_chain =LLMChain(llm=llm, prompt=prompt_template_name)\n",
    "\n",
    "prompt_template_items = PromptTemplate(\n",
    "    input_variables = ['restaurant_name'],\n",
    "    template=\"\"\"Suggest some menu items for {restaurant_name}\"\"\"\n",
    ")\n",
    "\n",
    "food_items_chain = LLMChain(llm=llm, prompt=prompt_template_items)"
   ]
  },
  {
   "cell_type": "markdown",
   "id": "437aede8",
   "metadata": {},
   "source": [
    "### Simple Sequential Chain "
   ]
  },
  {
   "cell_type": "code",
   "execution_count": 13,
   "id": "d4ee90f6",
   "metadata": {},
   "outputs": [
    {
     "name": "stdout",
     "output_type": "stream",
     "text": [
      "\n",
      "\n",
      "1. Spicy Chicken Tikka Masala\n",
      "2. Vegetable Biryani\n",
      "3. Lamb Vindaloo\n",
      "4. Tandoori Shrimp Skewers\n",
      "5. Chana Masala (Chickpea Curry)\n",
      "6. Aloo Gobi (Potato and Cauliflower Curry)\n",
      "7. Paneer Tikka (Grilled Indian Cheese)\n",
      "8. Samosas (Crispy Pastry Stuffed with Spiced Potatoes and Peas)\n",
      "9. Naan Bread with Garlic and Chili Flakes\n",
      "10. Mango Lassi (Refreshing Yogurt Drink)\n",
      "11. Chicken Korma (Creamy Coconut and Cashew Curry)\n",
      "12. Palak Paneer (Spinach and Indian Cheese Curry)\n",
      "13. Butter Chicken (Tender Chicken in a Creamy Tomato Sauce)\n",
      "14. Masala Dosa (Thin Crepe filled with Spiced Potatoes and Onions)\n",
      "15. Gulab Jamun (Sweet Fried Dumplings in Syrup)\n"
     ]
    }
   ],
   "source": [
    "from langchain.chains import SimpleSequentialChain\n",
    "chain = SimpleSequentialChain(chains = [name_chain, food_items_chain])\n",
    "\n",
    "content = chain.run(\"Indian\")\n",
    "print(content)"
   ]
  },
  {
   "cell_type": "markdown",
   "id": "82e0d72b",
   "metadata": {},
   "source": [
    "### Sequential Chain "
   ]
  },
  {
   "cell_type": "code",
   "execution_count": 14,
   "id": "4c83380f",
   "metadata": {},
   "outputs": [],
   "source": [
    "llm = OpenAI(temperature=0.7)\n",
    "\n",
    "prompt_template_name = PromptTemplate(\n",
    "    input_variables =['cuisine'],\n",
    "    template = \"I want to open a restaurant for {cuisine} food. Suggest a fency name for this.\"\n",
    ")\n",
    "\n",
    "name_chain =LLMChain(llm=llm, prompt=prompt_template_name, output_key=\"restaurant_name\")"
   ]
  },
  {
   "cell_type": "code",
   "execution_count": 15,
   "id": "6aecf4a9",
   "metadata": {},
   "outputs": [],
   "source": [
    "llm = OpenAI(temperature=0.7)\n",
    "\n",
    "prompt_template_items = PromptTemplate(\n",
    "    input_variables = ['restaurant_name'],\n",
    "    template=\"Suggest some menu items for {restaurant_name}.\"\n",
    ")\n",
    "\n",
    "food_items_chain =LLMChain(llm=llm, prompt=prompt_template_items, output_key=\"menu_items\")"
   ]
  },
  {
   "cell_type": "code",
   "execution_count": 16,
   "id": "ea3302b4",
   "metadata": {},
   "outputs": [],
   "source": [
    "from langchain.chains import SequentialChain\n",
    "\n",
    "chain = SequentialChain(\n",
    "    chains = [name_chain, food_items_chain],\n",
    "    input_variables = ['cuisine'],\n",
    "    output_variables = ['restaurant_name', \"menu_items\"]\n",
    ")"
   ]
  },
  {
   "cell_type": "code",
   "execution_count": 17,
   "id": "dd70b868",
   "metadata": {},
   "outputs": [
    {
     "data": {
      "text/plain": [
       "{'cuisine': 'Indian',\n",
       " 'restaurant_name': '\\n\\n\"Spice Kingdom\" ',\n",
       " 'menu_items': '\\n\\n1. Spicy Chicken Tikka Masala\\n2. Fiery Lamb Vindaloo\\n3. Spicy Szechuan Beef\\n4. Hot and Sour Soup\\n5. Prawn Curry with Chili and Garlic\\n6. Spicy Tandoori Shrimp\\n7. Red Curry Chicken\\n8. Spicy Hunan Tofu\\n9. Thai Basil Fried Rice with Spicy Chicken\\n10. Spicy Chicken Korma\\n11. Mapo Tofu with Spicy Ground Pork\\n12. Spicy Sichuan Noodles\\n13. Spicy Garlic Naan Bread\\n14. Korean Spicy BBQ Pork Ribs\\n15. Cajun Spiced Prawns with Mango Salsa.'}"
      ]
     },
     "execution_count": 17,
     "metadata": {},
     "output_type": "execute_result"
    }
   ],
   "source": [
    "chain({\"cuisine\": \"Indian\"})"
   ]
  },
  {
   "cell_type": "markdown",
   "id": "7d260494",
   "metadata": {},
   "source": [
    "### Agents "
   ]
  },
  {
   "cell_type": "code",
   "execution_count": 18,
   "id": "31e403cb",
   "metadata": {},
   "outputs": [],
   "source": [
    "# make sure yoy have installed this package: pip install google-search-results\n",
    "# from secret_key import serpapi_key\n",
    "# os.environ['SERPAPI_API_KEY'] = serpapi_key\n",
    "\n",
    "os.environ['SERPAPI_API_KEY'] = \"add your serpapi key here\""
   ]
  },
  {
   "cell_type": "markdown",
   "id": "e8648bf5",
   "metadata": {},
   "source": [
    "#### serpapi and llm-math tool "
   ]
  },
  {
   "cell_type": "code",
   "execution_count": 23,
   "id": "1272c612",
   "metadata": {},
   "outputs": [],
   "source": [
    "#!pip install serpapi"
   ]
  },
  {
   "cell_type": "code",
   "execution_count": 36,
   "id": "82dc6aca",
   "metadata": {},
   "outputs": [],
   "source": [
    "#!pip install google-search-results\n",
    "#!pip install --upgrade google-search-results"
   ]
  },
  {
   "cell_type": "code",
   "execution_count": 46,
   "id": "25f57aee",
   "metadata": {},
   "outputs": [],
   "source": [
    "#import serpapi\n",
    "#print(dir(serpapi))"
   ]
  },
  {
   "cell_type": "code",
   "execution_count": 45,
   "id": "ec590173",
   "metadata": {},
   "outputs": [
    {
     "name": "stdout",
     "output_type": "stream",
     "text": [
      "\n",
      "\n",
      "\u001b[1m> Entering new AgentExecutor chain...\u001b[0m\n",
      "\u001b[32;1m\u001b[1;3m I need to add 5 to the GDP of the US in 2022\n",
      "Action: Calculator\n",
      "Action Input: GDP of the US in 2022, 5\u001b[0m\n",
      "Observation: \u001b[36;1m\u001b[1;3mAnswer: 10110\u001b[0m\n",
      "Thought:\u001b[32;1m\u001b[1;3m I now know the final answer\n",
      "Final Answer: 10110\u001b[0m\n",
      "\n",
      "\u001b[1m> Finished chain.\u001b[0m\n",
      "10110\n"
     ]
    }
   ],
   "source": [
    "from langchain.agents import AgentType, initialize_agent, load_tools\n",
    "from langchain.llms import OpenAI\n",
    "\n",
    "llm = OpenAI(temperature=0)\n",
    "\n",
    "# Load only the 'llm-math' tool for now, as there seems to be an issue with 'serpapi'\n",
    "tools = load_tools([\"llm-math\"], llm=llm)\n",
    "\n",
    "# Initialize the agent with the loaded tools and the OpenAI LLM\n",
    "agent = initialize_agent(tools, llm, agent=AgentType.ZERO_SHOT_REACT_DESCRIPTION, verbose=True)\n",
    "\n",
    "# Run a test query with the agent\n",
    "response = agent.run(\"What was the GDP of the US in 2022 plus 5?\")\n",
    "print(response)"
   ]
  },
  {
   "cell_type": "markdown",
   "id": "419b1776",
   "metadata": {},
   "source": [
    "#### Wikipedia and llm-math tool "
   ]
  },
  {
   "cell_type": "code",
   "execution_count": 47,
   "id": "e5afe164",
   "metadata": {},
   "outputs": [
    {
     "name": "stdout",
     "output_type": "stream",
     "text": [
      "\n",
      "\n",
      "\u001b[1m> Entering new AgentExecutor chain...\u001b[0m\n",
      "\u001b[32;1m\u001b[1;3m I should use Wikipedia to find information about Elon Musk's birthdate and age.\n",
      "Action: wikipedia\n",
      "Action Input: Elon Musk\u001b[0m\n",
      "Observation: \u001b[36;1m\u001b[1;3mPage: Elon Musk\n",
      "Summary: Elon Reeve Musk  (; born June 28, 1971) is a businessman and investor known for his key roles in the space company SpaceX and the automotive company Tesla, Inc. Other involvements include ownership of X Corp., the company that operates the social media platform X (formerly known as Twitter), and his role in the founding of The Boring Company, xAI, Neuralink, and OpenAI. He is one of the wealthiest individuals in the world; as of August 2024 Forbes estimates his net worth to be US$247 billion.\n",
      "Musk was born in Pretoria to Maye (née Haldeman), a model, and Errol Musk, a businessman and engineer. Musk briefly attended the University of Pretoria before immigrating to Canada at the age of 18, acquiring citizenship through his Canadian-born mother. Two years later he matriculated at Queen's University at Kingston in Canada. Musk later transferred to the University of Pennsylvania and received bachelor's degrees in economics and physics. He moved to California in 1995 to attend Stanford University, but dropped out after two days and, with his brother Kimbal, co-founded the online city guide software company Zip2. The startup was acquired by Compaq for $307 million in 1999. That same year Musk co-founded X.com, a direct bank. X.com merged with Confinity in 2000 to form PayPal. In October 2002, eBay acquired PayPal for $1.5 billion. Using $100 million of the money he made from the sale of PayPal, Musk founded SpaceX, a spaceflight services company, in 2002. \n",
      "In 2004, Musk was an early investor who provided most of the initial financing in the electric-vehicle manufacturer Tesla Motors, Inc. (later Tesla, Inc.), assuming the position of the company's chairman. He later became the product architect and, in 2008, the CEO. In 2006, Musk helped create SolarCity, a solar energy company that was acquired by Tesla in 2016 and became Tesla Energy. In 2013, he proposed a hyperloop high-speed vactrain transportation system. In 2015, he co-founded OpenAI, a nonprofit artificial intelligence research company. The following year Musk co-founded Neuralink—a neurotechnology company developing brain–computer interfaces—and The Boring Company, a tunnel construction company. In 2018 the U.S. Securities and Exchange Commission (SEC) sued Musk, alleging that he had falsely announced that he had secured funding for a private takeover of Tesla. To settle the case Musk stepped down as the chairman of Tesla and paid a $20 million fine. In 2022, he acquired Twitter for $44 billion, merged the company into the newly-created X Corp. and rebranded the service as X the following year. In March 2023, Musk founded xAI, an artificial-intelligence company.\n",
      "Musk has expressed views that have made him a polarizing figure. He has been criticized for making unscientific and misleading statements, including COVID-19 misinformation, promoting right-wing conspiracy theories, and \"endorsing an antisemitic theory\"; he later apologized for the latter. His ownership of Twitter has been similarly controversial given the layoffs of large numbers of employees, an increase in hate speech, misinformation and disinformation posts on the website, and changes to Twitter Blue verification.\n",
      "\n",
      "\n",
      "\n",
      "Page: Family of Elon Musk\n",
      "Summary: Elon Musk's family consists  of several notable individuals, among them his mother Maye Musk, a model and author, his father Errol Musk, a businessman and politician, his siblings Kimbal Musk  and Tosca Musk, and his cousin Lyndon Rive. His ex-wives are Justine Musk and Tallauh Riley.\n",
      "\n",
      "\n",
      "\n",
      "Page: Views of Elon Musk\n",
      "Summary: Elon Musk is the CEO or owner of multiple companies including Tesla, SpaceX, and X Corp, and has expressed many views on a wide variety of subjects, ranging from politics to science.\n",
      "Musk has often been described as libertarian, but also describes himself as \"politically moderate\". Following the COVID-19 pandemic, however, his views have also been described as becoming more right-wing and conservative over time. Within the c\u001b[0m\n",
      "Thought:\u001b[32;1m\u001b[1;3m I should use the Calculator to find out Elon Musk's age in 2023.\n",
      "Action: Calculator\n",
      "Action Input: 2023 - 1971\u001b[0m\n",
      "Observation: \u001b[33;1m\u001b[1;3mAnswer: 52\u001b[0m\n",
      "Thought:\u001b[32;1m\u001b[1;3m I should subtract 52 from 2023 to find out Elon Musk's age in 2023.\n",
      "Action: Calculator\n",
      "Action Input: 2023 - 52\u001b[0m\n",
      "Observation: \u001b[33;1m\u001b[1;3mAnswer: 1971\u001b[0m\n",
      "Thought:\u001b[32;1m\u001b[1;3m I now know the final answer.\n",
      "Final Answer: Elon Musk was born in 1971 and will be 52 years old in 2023.\u001b[0m\n",
      "\n",
      "\u001b[1m> Finished chain.\u001b[0m\n"
     ]
    },
    {
     "data": {
      "text/plain": [
       "'Elon Musk was born in 1971 and will be 52 years old in 2023.'"
      ]
     },
     "execution_count": 47,
     "metadata": {},
     "output_type": "execute_result"
    }
   ],
   "source": [
    "# install this package: pip install wikipedia\n",
    "\n",
    "# The tools we'll give the Agent access to. Note that the 'llm-math' tool uses an LLM, so we need to pass that in.\n",
    "tools = load_tools([\"wikipedia\", \"llm-math\"], llm=llm)\n",
    "\n",
    "# Finally, let's initialize an agent with the tools, the language model, and the type of agent we want to use.\n",
    "agent = initialize_agent(\n",
    "    tools, \n",
    "    llm, \n",
    "    agent=AgentType.ZERO_SHOT_REACT_DESCRIPTION, \n",
    "    verbose=True\n",
    ")\n",
    "\n",
    "# Let's test it out!\n",
    "agent.run(\"When was Elon musk born? What is his age right now in 2023?\")"
   ]
  },
  {
   "cell_type": "markdown",
   "id": "5b2f33ee",
   "metadata": {},
   "source": [
    "### Memory "
   ]
  },
  {
   "cell_type": "code",
   "execution_count": 48,
   "id": "7bc16fe0",
   "metadata": {},
   "outputs": [
    {
     "name": "stdout",
     "output_type": "stream",
     "text": [
      "\n",
      "\n",
      "\"El Sabor Exquisito\" (The Exquisite Flavor)\n"
     ]
    }
   ],
   "source": [
    "chain = LLMChain(llm=llm,prompt=prompt_template_name)\n",
    "name = chain.run(\"Mexican\")\n",
    "print(name)"
   ]
  },
  {
   "cell_type": "code",
   "execution_count": 49,
   "id": "bdfe5570",
   "metadata": {},
   "outputs": [
    {
     "name": "stdout",
     "output_type": "stream",
     "text": [
      "\n",
      "\n",
      "\"Spice Palace\"\n"
     ]
    }
   ],
   "source": [
    "name = chain.run(\"Indian\")\n",
    "print(name)"
   ]
  },
  {
   "cell_type": "code",
   "execution_count": 50,
   "id": "f71304db",
   "metadata": {},
   "outputs": [],
   "source": [
    "chain.memory"
   ]
  },
  {
   "cell_type": "code",
   "execution_count": 51,
   "id": "7a9fe634",
   "metadata": {},
   "outputs": [
    {
     "data": {
      "text/plain": [
       "NoneType"
      ]
     },
     "execution_count": 51,
     "metadata": {},
     "output_type": "execute_result"
    }
   ],
   "source": [
    "type(chain.memory)"
   ]
  },
  {
   "cell_type": "markdown",
   "id": "32d6c8bb",
   "metadata": {},
   "source": [
    "### ConversationBufferMemory "
   ]
  },
  {
   "cell_type": "code",
   "execution_count": 52,
   "id": "c12d766d",
   "metadata": {},
   "outputs": [
    {
     "name": "stdout",
     "output_type": "stream",
     "text": [
      "\n",
      "\n",
      "\"El Sabor Exquisito\" (The Exquisite Flavor)\n"
     ]
    }
   ],
   "source": [
    "from langchain.memory import ConversationBufferMemory\n",
    "\n",
    "memory = ConversationBufferMemory()\n",
    "\n",
    "chain = LLMChain(llm=llm, prompt=prompt_template_name, memory=memory)\n",
    "name = chain.run(\"Mexican\")\n",
    "print(name)"
   ]
  },
  {
   "cell_type": "code",
   "execution_count": 53,
   "id": "61c97efb",
   "metadata": {},
   "outputs": [
    {
     "name": "stdout",
     "output_type": "stream",
     "text": [
      "\n",
      "\n",
      "\"Al-Fawarish\" (meaning \"The Treasures\" in Arabic)\n"
     ]
    }
   ],
   "source": [
    "name = chain.run(\"Arabic\")\n",
    "print(name)"
   ]
  },
  {
   "cell_type": "code",
   "execution_count": 54,
   "id": "5947a052",
   "metadata": {},
   "outputs": [
    {
     "name": "stdout",
     "output_type": "stream",
     "text": [
      "Human: Mexican\n",
      "AI: \n",
      "\n",
      "\"El Sabor Exquisito\" (The Exquisite Flavor)\n",
      "Human: Arabic\n",
      "AI: \n",
      "\n",
      "\"Al-Fawarish\" (meaning \"The Treasures\" in Arabic)\n"
     ]
    }
   ],
   "source": [
    "print(chain.memory.buffer)"
   ]
  },
  {
   "cell_type": "markdown",
   "id": "4eef612c",
   "metadata": {},
   "source": [
    "### ConversationChain "
   ]
  },
  {
   "cell_type": "code",
   "execution_count": 55,
   "id": "36d27ca7",
   "metadata": {},
   "outputs": [
    {
     "name": "stdout",
     "output_type": "stream",
     "text": [
      "The following is a friendly conversation between a human and an AI. The AI is talkative and provides lots of specific details from its context. If the AI does not know the answer to a question, it truthfully says it does not know.\n",
      "\n",
      "Current conversation:\n",
      "{history}\n",
      "Human: {input}\n",
      "AI:\n"
     ]
    }
   ],
   "source": [
    "from langchain.chains import ConversationChain\n",
    "\n",
    "convo = ConversationChain(llm=OpenAI(temperature=0.7))\n",
    "print(convo.prompt.template)"
   ]
  },
  {
   "cell_type": "code",
   "execution_count": 56,
   "id": "3fd5533e",
   "metadata": {},
   "outputs": [
    {
     "data": {
      "text/plain": [
       "\" The first cricket World Cup was held in 1975, and it was won by the West Indies team. The final match was played between the West Indies and Australia at Lord's Cricket Ground in London. The West Indies team won by 17 runs, with Clive Lloyd being named as the Man of the Match. The World Cup was organized by the International Cricket Council (ICC) and featured eight teams, including Australia, England, India, Pakistan, New Zealand, Sri Lanka, and East Africa. \""
      ]
     },
     "execution_count": 56,
     "metadata": {},
     "output_type": "execute_result"
    }
   ],
   "source": [
    "convo.run(\"Who won the first cricket world cup?\")"
   ]
  },
  {
   "cell_type": "code",
   "execution_count": 57,
   "id": "c7808579",
   "metadata": {},
   "outputs": [
    {
     "data": {
      "text/plain": [
       "'  The answer to 5+5 is 10. This is a basic arithmetic equation that involves adding two numbers together. In this case, the numbers are both 5 and when added together, they equal 10. This is a fundamental concept in mathematics and is often taught in early education.'"
      ]
     },
     "execution_count": 57,
     "metadata": {},
     "output_type": "execute_result"
    }
   ],
   "source": [
    "convo.run(\"How much is 5+5?\")"
   ]
  },
  {
   "cell_type": "code",
   "execution_count": 58,
   "id": "1a821730",
   "metadata": {},
   "outputs": [
    {
     "data": {
      "text/plain": [
       "' The captain of the winning West Indies team in the first cricket World Cup was Clive Lloyd. He was a left-handed batsman and a medium-pace bowler, and he captained the West Indies team from 1974 to 1985. Lloyd was known for his aggressive and powerful batting style and his strong leadership skills. He went on to lead the West Indies team to win two more cricket World Cups, in 1979 and 1983. After his retirement, he became a coach and administrator for cricket teams around the world.'"
      ]
     },
     "execution_count": 58,
     "metadata": {},
     "output_type": "execute_result"
    }
   ],
   "source": [
    "convo.run(\"Who was the captain ofthe winning team?\")"
   ]
  },
  {
   "cell_type": "code",
   "execution_count": 59,
   "id": "8d928b52",
   "metadata": {},
   "outputs": [
    {
     "name": "stdout",
     "output_type": "stream",
     "text": [
      "Human: Who won the first cricket world cup?\n",
      "AI:  The first cricket World Cup was held in 1975, and it was won by the West Indies team. The final match was played between the West Indies and Australia at Lord's Cricket Ground in London. The West Indies team won by 17 runs, with Clive Lloyd being named as the Man of the Match. The World Cup was organized by the International Cricket Council (ICC) and featured eight teams, including Australia, England, India, Pakistan, New Zealand, Sri Lanka, and East Africa. \n",
      "Human: How much is 5+5?\n",
      "AI:   The answer to 5+5 is 10. This is a basic arithmetic equation that involves adding two numbers together. In this case, the numbers are both 5 and when added together, they equal 10. This is a fundamental concept in mathematics and is often taught in early education.\n",
      "Human: Who was the captain ofthe winning team?\n",
      "AI:  The captain of the winning West Indies team in the first cricket World Cup was Clive Lloyd. He was a left-handed batsman and a medium-pace bowler, and he captained the West Indies team from 1974 to 1985. Lloyd was known for his aggressive and powerful batting style and his strong leadership skills. He went on to lead the West Indies team to win two more cricket World Cups, in 1979 and 1983. After his retirement, he became a coach and administrator for cricket teams around the world.\n"
     ]
    }
   ],
   "source": [
    "print(convo.memory.buffer)"
   ]
  },
  {
   "cell_type": "markdown",
   "id": "28601f3c",
   "metadata": {},
   "source": [
    "### ConversationBufferWindowMemory "
   ]
  },
  {
   "cell_type": "code",
   "execution_count": 60,
   "id": "fc2ee146",
   "metadata": {},
   "outputs": [
    {
     "data": {
      "text/plain": [
       "' The first cricket world cup was won by the West Indies team in 1975. It was held in England and the West Indies defeated Australia in the final match. The West Indies team was led by Clive Lloyd and they won by 17 runs. The man of the match was Viv Richards, who scored 138 runs in the final.'"
      ]
     },
     "execution_count": 60,
     "metadata": {},
     "output_type": "execute_result"
    }
   ],
   "source": [
    "from langchain.memory import ConversationBufferWindowMemory\n",
    "\n",
    "memory = ConversationBufferWindowMemory(k=1)\n",
    "\n",
    "convo = ConversationChain(\n",
    "    llm=OpenAI(temperature=0.7),\n",
    "    memory=memory\n",
    ")\n",
    "convo.run(\"Who won the first cricket world cup?\")"
   ]
  },
  {
   "cell_type": "code",
   "execution_count": 61,
   "id": "8c5676e2",
   "metadata": {},
   "outputs": [
    {
     "data": {
      "text/plain": [
       "' 5+5 is equal to 10.'"
      ]
     },
     "execution_count": 61,
     "metadata": {},
     "output_type": "execute_result"
    }
   ],
   "source": [
    "convo.run(\"How much is 5+5?\")"
   ]
  },
  {
   "cell_type": "code",
   "execution_count": 62,
   "id": "43c39568",
   "metadata": {},
   "outputs": [
    {
     "data": {
      "text/plain": [
       "' I do not have enough context to accurately answer that question. Can you provide me with more information?'"
      ]
     },
     "execution_count": 62,
     "metadata": {},
     "output_type": "execute_result"
    }
   ],
   "source": [
    "convo.run(\"Who was the captain of the winning team?\")"
   ]
  },
  {
   "cell_type": "code",
   "execution_count": null,
   "id": "14d4c5e6",
   "metadata": {},
   "outputs": [],
   "source": []
  }
 ],
 "metadata": {
  "kernelspec": {
   "display_name": "Python 3 (ipykernel)",
   "language": "python",
   "name": "python3"
  },
  "language_info": {
   "codemirror_mode": {
    "name": "ipython",
    "version": 3
   },
   "file_extension": ".py",
   "mimetype": "text/x-python",
   "name": "python",
   "nbconvert_exporter": "python",
   "pygments_lexer": "ipython3",
   "version": "3.10.9"
  }
 },
 "nbformat": 4,
 "nbformat_minor": 5
}
